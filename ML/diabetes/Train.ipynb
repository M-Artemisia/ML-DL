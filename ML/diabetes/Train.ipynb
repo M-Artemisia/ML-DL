{
 "cells": [
  {
   "cell_type": "markdown",
   "metadata": {
    "extensions": {
     "jupyter_dashboards": {
      "activeView": "grid_default",
      "views": {
       "grid_default": {
        "col": 0,
        "height": 4,
        "hidden": false,
        "row": 0,
        "width": 12
       }
      }
     }
    }
   },
   "source": [
    "# Diabetes Prediction\n",
    "## Creating models using ElasticNet (sklearn) and Plots ElasticNet Descent Paths\n",
    "\n",
    "Uses a Diabetes [dataset](https://www4.stat.ncsu.edu/~boos/var.select/diabetes.tab.txt) to predict diabetes progression in next year using ElasticNet.\n",
    "The predicted \"progression\" column is a quantitative measure of disease progression one year after baseline\n",
    "Combines the above with the [Lasso Coordinate Descent Path Plot](http://scikit-learn.org/stable/auto_examples/linear_model/plot_lasso_coordinate_descent_path.html)\n",
    "\n",
    "Original author: Alexandre Gramfort <alexandre.gramfort@inria.fr>; License: BSD 3 clause\n",
    "The [main page](https://www4.stat.ncsu.edu/~boos/var.select/diabetes.html)\n",
    "[Related paper](https://web.stanford.edu/~hastie/Papers/LARS/LeastAngle_2002.pdf)\n",
    "\n",
    "Usage:\n",
    " python train_diabetes.py 0.01 0.01\n",
    " python train_diabetes.py 0.01 0.75\n",
    " python train_diabetes.py 0.01 1.0"
   ]
  },
  {
   "cell_type": "code",
   "execution_count": 1,
   "metadata": {
    "extensions": {
     "jupyter_dashboards": {
      "activeView": "grid_default",
      "views": {
       "grid_default": {
        "col": null,
        "height": 2,
        "hidden": true,
        "row": null,
        "width": 2
       }
      }
     }
    }
   },
   "outputs": [],
   "source": [
    "import os\n",
    "import warnings\n",
    "import sys\n",
    "\n",
    "import pandas as pd\n",
    "import numpy as np\n",
    "import mlyzer"
   ]
  },
  {
   "cell_type": "markdown",
   "metadata": {
    "extensions": {
     "jupyter_dashboards": {
      "activeView": "grid_default",
      "views": {
       "grid_default": {
        "col": null,
        "height": 2,
        "hidden": true,
        "row": null,
        "width": 2
       }
      }
     }
    }
   },
   "source": [
    "## 1) Data Preparation"
   ]
  },
  {
   "cell_type": "code",
   "execution_count": 2,
   "metadata": {
    "extensions": {
     "jupyter_dashboards": {
      "activeView": "grid_default",
      "views": {
       "grid_default": {
        "col": null,
        "height": 2,
        "hidden": true,
        "row": null,
        "width": 2
       }
      }
     }
    }
   },
   "outputs": [
    {
     "name": "stdout",
     "output_type": "stream",
     "text": [
      "Read the diabetes txt file from the URL\n"
     ]
    }
   ],
   "source": [
    "# from sklearn import datasets\n",
    "# Load Diabetes datasets\n",
    "# diabetes = datasets.load_diabetes()\n",
    "\n",
    "print(\"Read the diabetes txt file from the URL\")\n",
    "csv_url ='https://www4.stat.ncsu.edu/~boos/var.select/diabetes.tab.txt'\n",
    "try:\n",
    "    data = pd.read_csv(csv_url, sep='\\t')\n",
    "except Exception as e:\n",
    "    logger.exception(\n",
    "    \"Unable to download training & test CSV, check your internet connection. Error: %s\", e)\n",
    "df = data\n",
    "d_mean = data.mean() ; d_std = data.std(); # print(\"mean & std are:\", d_mean, d_std)\n",
    "diabetes = (data-d_mean)/d_std\n",
    "\n",
    "X = data.drop(data.columns[[10]], axis = 1, inplace = False) \n",
    "y = data.iloc[:,10]\n",
    "\n",
    "diabetes.iloc[:,10] = y\n",
    "data = diabetes.rename(columns={'Y': 'progression'})"
   ]
  },
  {
   "cell_type": "markdown",
   "metadata": {
    "extensions": {
     "jupyter_dashboards": {
      "activeView": "grid_default",
      "views": {
       "grid_default": {
        "col": null,
        "height": 2,
        "hidden": true,
        "row": null,
        "width": 2
       }
      }
     }
    }
   },
   "source": [
    "## 2) Utils"
   ]
  },
  {
   "cell_type": "code",
   "execution_count": 3,
   "metadata": {
    "extensions": {
     "jupyter_dashboards": {
      "activeView": "grid_default",
      "views": {
       "grid_default": {
        "col": null,
        "height": 2,
        "hidden": true,
        "row": null,
        "width": 2
       }
      }
     }
    }
   },
   "outputs": [],
   "source": [
    "import matplotlib.pyplot as plt\n",
    "from itertools import cycle\n",
    "from sklearn.linear_model import lasso_path, enet_path\n",
    "\n",
    "def path_plot(X, Y, l1_ratio, fig_name): \n",
    "    # Compute paths\n",
    "    eps = 5e-3  # the smaller it is the longer is the path\n",
    "\n",
    "    # Computing regularization path using the elastic net.\n",
    "    alphas_enet, coefs_enet, _ = enet_path(X, y, eps=eps, l1_ratio=l1_ratio, fit_intercept=False)\n",
    "\n",
    "    # Display results\n",
    "    fig = plt.figure(1)\n",
    "    ax = plt.gca()\n",
    "    colors = cycle([\"b\", \"r\", \"g\", \"c\", \"k\"])\n",
    "    neg_log_alphas_enet = -np.log10(alphas_enet)\n",
    "    for coef_e, c in zip(coefs_enet, colors):\n",
    "        l2 = plt.plot(neg_log_alphas_enet, coef_e, linestyle=\"--\", c=c)\n",
    "\n",
    "    plt.xlabel(\"-Log(alpha)\"); plt.ylabel(\"coefficients\")\n",
    "    title = \"ElasticNet Path by alpha for l1_ratio = \" + str(l1_ratio)\n",
    "    plt.title(title); plt.axis(\"tight\")\n",
    "\n",
    "    # Save figures\n",
    "    fig.savefig(fig_name)\n",
    "\n",
    "    # Close plot\n",
    "    plt.close(fig)\n",
    "    \n",
    "    \n",
    "from sklearn.metrics import mean_squared_error, mean_absolute_error, r2_score\n",
    "\n",
    "def eval_metrics(actual, pred):\n",
    "    rmse = np.sqrt(mean_squared_error(actual, pred))\n",
    "    mae = mean_absolute_error(actual, pred)\n",
    "    r2 = r2_score(actual, pred)\n",
    "    return rmse, mae, r2"
   ]
  },
  {
   "cell_type": "markdown",
   "metadata": {
    "extensions": {
     "jupyter_dashboards": {
      "activeView": "grid_default",
      "views": {
       "grid_default": {
        "col": null,
        "height": 2,
        "hidden": true,
        "row": null,
        "width": 2
       }
      }
     }
    }
   },
   "source": [
    "## 3) Model Training & Logging"
   ]
  },
  {
   "cell_type": "code",
   "execution_count": 4,
   "metadata": {
    "extensions": {
     "jupyter_dashboards": {
      "activeView": "grid_default",
      "views": {
       "grid_default": {
        "col": null,
        "height": 2,
        "hidden": true,
        "row": null,
        "width": 2
       }
      }
     }
    }
   },
   "outputs": [
    {
     "name": "stdout",
     "output_type": "stream",
     "text": [
      "in set...\n"
     ]
    }
   ],
   "source": [
    "from sklearn.model_selection import train_test_split\n",
    "from sklearn.linear_model import ElasticNet\n",
    "\n",
    "import mlyzer\n",
    "remote_server_uri = \"https://mlyzer.solouk.net\" # set to your server URI\n",
    "experiment_name=\"DS__Test\"\n",
    "\n",
    "mlyzer.set_tracking_uri(remote_server_uri)\n",
    "#mlyzer.get_tracking_uri()\n",
    "\n",
    "\n",
    "def train(alpha_in, ratio_in):\n",
    "    warnings.filterwarnings(\"ignore\")\n",
    "    np.random.seed(40)\n",
    "\n",
    "    # Split the data into training and test sets. (0.75, 0.25) split.\n",
    "    train, test = train_test_split(data)\n",
    "\n",
    "    # The predicted column is \"progression\" which is a quantitative measure of disease progression one year after baseline\n",
    "    train_x = train.drop([\"progression\"], axis=1)\n",
    "    test_x = test.drop([\"progression\"], axis=1)\n",
    "    train_y = train[[\"progression\"]]\n",
    "    test_y = test[[\"progression\"]]\n",
    "\n",
    "    alpha = float(alpha_in) if alpha_in is not None else 0.05\n",
    "    l1_ratio = float(ratio_in) if ratio_in is not None else 0.05\n",
    "\n",
    "    \n",
    "    mlyzer.create_expriment(experiment_name)    \n",
    "    mlyzer.clean()\n",
    "    mlyzer.run()\n",
    "    lr = ElasticNet(alpha=alpha, l1_ratio=l1_ratio, random_state=42)\n",
    "    lr.fit(train_x, train_y)\n",
    "    predicted_qualities = lr.predict(test_x)\n",
    "    (rmse, mae, r2) = eval_metrics(test_y, predicted_qualities)\n",
    "    path_plot(X, y, l1_ratio, fig_name=\"ElasticNet-paths.png\")\n",
    "    \n",
    "    mlyzer.log_param(\"alpha\", alpha)\n",
    "    mlyzer.log_param(\"l1_ratio\", l1_ratio)\n",
    "    mlyzer.log_metric(\"rmse\", rmse)\n",
    "    mlyzer.log_metric(\"r2\", r2)\n",
    "    mlyzer.log_metric(\"mae\", mae)\n",
    "    mlyzer.log_model(\"model\", lr, \"sklearn\")\n",
    "    # Log artifacts (output files)\n",
    "    mlyzer.log_artifact(\"ElasticNet-paths.png\")\n",
    "    \n",
    "    mlyzer.end_run()"
   ]
  },
  {
   "cell_type": "code",
   "execution_count": 5,
   "metadata": {
    "extensions": {
     "jupyter_dashboards": {
      "activeView": "grid_default",
      "views": {
       "grid_default": {
        "col": null,
        "height": 2,
        "hidden": true,
        "row": null,
        "width": 2
       }
      }
     }
    }
   },
   "outputs": [
    {
     "name": "stdout",
     "output_type": "stream",
     "text": [
      "The experiment currently exist! Abort re-creation...\n",
      "Name: DS__Test\n",
      "Artifact Location: /opt/artifacts/22\n",
      "Lifecycle_stage: active\n",
      "The experiment currently exist! Abort re-creation...\n",
      "Name: DS__Test\n",
      "Artifact Location: /opt/artifacts/22\n",
      "Lifecycle_stage: active\n",
      "The experiment currently exist! Abort re-creation...\n",
      "Name: DS__Test\n",
      "Artifact Location: /opt/artifacts/22\n",
      "Lifecycle_stage: active\n"
     ]
    }
   ],
   "source": [
    "#for i in [0.00001, 0.000001, 0.000005, 0.0001, 0.001, 0.01, 0.1, 1.0]:\n",
    "#    for j in [0.1, 0.01, 0.001,0.0001,0.0001, 0.00001, 0.000001, 0.000001]:\n",
    "#        train (i,j)\n",
    "train(0.1,0.01)\n",
    "train(0.1,0.1)\n",
    "train(0.01,0.01)"
   ]
  },
  {
   "cell_type": "markdown",
   "metadata": {
    "extensions": {
     "jupyter_dashboards": {
      "activeView": "grid_default",
      "views": {
       "grid_default": {
        "col": null,
        "height": 2,
        "hidden": true,
        "row": null,
        "width": 2
       }
      }
     }
    }
   },
   "source": [
    "## 4) Model Prediction\n"
   ]
  },
  {
   "cell_type": "code",
   "execution_count": 1,
   "metadata": {
    "extensions": {
     "jupyter_dashboards": {
      "activeView": "grid_default",
      "views": {
       "grid_default": {
        "col": null,
        "height": 2,
        "hidden": true,
        "row": null,
        "width": 2
       }
      }
     }
    }
   },
   "outputs": [
    {
     "name": "stdout",
     "output_type": "stream",
     "text": [
      "[67.94773994435154]\n",
      "related data is:  age:48  Sex:1  bmi:21.6   bp:87.00  s1:183  s2:103.2  s3:70.0  s4:3.00  s5:3.8918   s6:69 \n",
      "expected value is 75!\n"
     ]
    }
   ],
   "source": [
    "curl_data = '\\'{\"columns\":[\"age\", \"sex\", \"bmi\", \"bp\", \"s1\", \"s2\", \"s3\", \"s4\", \"s5\", \"s6\"],\"data\":[[-0.039522, -0.937474, -1.080955,-0.552878, -0.177423, -0.402430, 1.562643, -0.829361, -1.434962, -1.936285]]}\\''\n",
    "host = '127.0.0.1'\n",
    "port = '12355'\n",
    "\n",
    "! curl -X POST -H \"Content-Type:application/json; format=pandas-split\" --data {curl_data} http://{host}:{port}/invocations\n",
    "print()\n",
    "print(\"related data is:  age:48  Sex:1  bmi:21.6   bp:87.00  s1:183  s2:103.2  s3:70.0  s4:3.00  s5:3.8918   s6:69 \")\n",
    "print (\"expected value is 75!\");"
   ]
  },
  {
   "cell_type": "code",
   "execution_count": null,
   "metadata": {
    "extensions": {
     "jupyter_dashboards": {
      "activeView": "grid_default",
      "views": {
       "grid_default": {
        "col": null,
        "height": 2,
        "hidden": true,
        "row": null,
        "width": 2
       }
      }
     }
    }
   },
   "outputs": [],
   "source": []
  }
 ],
 "metadata": {
  "extensions": {
   "jupyter_dashboards": {
    "activeView": "grid_default",
    "version": 1,
    "views": {
     "grid_default": {
      "cellMargin": 2,
      "defaultCellHeight": 60,
      "maxColumns": 12,
      "name": "grid",
      "type": "grid"
     }
    }
   }
  },
  "kernelspec": {
   "display_name": "Py3 ML",
   "language": "python",
   "name": "ml-env2"
  },
  "language_info": {
   "codemirror_mode": {
    "name": "ipython",
    "version": 3
   },
   "file_extension": ".py",
   "mimetype": "text/x-python",
   "name": "python",
   "nbconvert_exporter": "python",
   "pygments_lexer": "ipython3",
   "version": "3.7.9"
  }
 },
 "nbformat": 4,
 "nbformat_minor": 4
}
