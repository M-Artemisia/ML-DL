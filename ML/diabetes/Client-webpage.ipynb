{
 "cells": [
  {
   "cell_type": "markdown",
   "id": "outdoor-adoption",
   "metadata": {},
   "source": [
    "# Web Page"
   ]
  },
  {
   "cell_type": "code",
   "execution_count": 2,
   "id": "accompanied-coral",
   "metadata": {
    "collapsed": true,
    "jupyter": {
     "outputs_hidden": true,
     "source_hidden": true
    }
   },
   "outputs": [
    {
     "name": "stdout",
     "output_type": "stream",
     "text": [
      "[67.94773994435154]\n"
     ]
    }
   ],
   "source": [
    "curl_data = '\\'{\"columns\":[\"age\", \"sex\", \"bmi\", \"bp\", \"s1\", \"s2\", \"s3\", \"s4\", \"s5\", \"s6\"],\"data\":[[-0.039522, -0.937474, -1.080955,-0.552878, -0.177423, -0.402430, 1.562643, -0.829361, -1.434962, -1.936285]]}\\''\n",
    "host = '127.0.0.1'\n",
    "port = '12355'\n",
    "\n",
    "! curl -X POST -H \"Content-Type:application/json; format=pandas-split\" --data {curl_data} http://{host}:{port}/invocations\n",
    "print()"
   ]
  },
  {
   "cell_type": "code",
   "execution_count": 1,
   "id": "personalized-dividend",
   "metadata": {},
   "outputs": [
    {
     "data": {
      "application/vnd.jupyter.widget-view+json": {
       "model_id": "932165b9103142cba9aba265d6460342",
       "version_major": 2,
       "version_minor": 0
      },
      "text/plain": [
       "VBox(children=(RadioButtons(description='Sexuality:', options=('Female', 'Male'), value='Female'), FloatText(v…"
      ]
     },
     "metadata": {},
     "output_type": "display_data"
    },
    {
     "data": {
      "application/vnd.jupyter.widget-view+json": {
       "model_id": "ac01d500578540cf8840c94166ec581a",
       "version_major": 2,
       "version_minor": 0
      },
      "text/plain": [
       "Output()"
      ]
     },
     "metadata": {},
     "output_type": "display_data"
    }
   ],
   "source": [
    "from ipywidgets import HBox, VBox, RadioButtons,IntText, FloatText, interactive_output, Button\n",
    "from IPython.display import display\n",
    "import pandas as pd\n",
    "import numpy as np\n",
    "import json, requests \n",
    "\n",
    "sex = RadioButtons(options=['Female', 'Male'],description='Sexuality:')\n",
    "bmi = FloatText(description='BMI')\n",
    "age = IntText(description='AGE')\n",
    "bp = FloatText(description='BP' )\n",
    "s1 = FloatText(description='ldl' )\n",
    "s2 = FloatText(description='hdl' )\n",
    "s3 = FloatText(description='tc')\n",
    "s4 = FloatText(description='S4' )\n",
    "s5 = FloatText(description='S5')\n",
    "s6 = FloatText(description='S6')\n",
    "#button = Button(description='Predict',disabled=False,button_style='',tooltip='Predict Diabetes Progressin',icon='check')\n",
    "\n",
    "def predict(bmi, sex, age, bp, s1,s2,s3,s4,s5,s6):\n",
    "    sex = 1 if sex=='Female' else 2\n",
    "    input_list = np.array([[age, sex, bmi, bp, s1, s2, s3, s4, s5, s6]])\n",
    "    col = [\"age\", \"sex\", \"bmi\", \"bp\", \"s1\", \"s2\", \"s3\", \"s4\", \"s5\", \"s6\"]\n",
    "    mean_list = np.array([[48.518100, 1.468326, 26.375792, 94.647014,189.140271, 115.439140,49.788462,4.070249, 4.641411, 91.260181]])\n",
    "    std_list = np.array([[13.109028, 0.499561, 4.418122, 13.831283, 34.608052, 30.413081, 12.934202, 1.290450, 0.522391,11.496335]])\n",
    "    scaled_input = (input_list-mean_list)/std_list\n",
    "\n",
    "    # Send Request\n",
    "    host = 'http://127.0.0.1'\n",
    "    port = '12355'\n",
    "    URL = host + \":\" + port + \"/invocations\"\n",
    "    headers = { 'Content-Type':'application/json', 'format':'pandas-split'}\n",
    "    http_data =  pd.DataFrame.to_json(pd.DataFrame(scaled_input, columns = col), orient='split')\n",
    "    r = requests.post(url = URL, headers = headers, data = http_data) \n",
    "    response = r.json\n",
    "    print(\"The responese is:%s\"%r.text)\n",
    "\n",
    "#button.on_click(predict(bmi.value, sex.value, age.value, bp.value, s1.value, s2.value, s3.value, s4.value, s5.value, s6.value))\n",
    "out = interactive_output(predict, {\"bmi\": bmi, \"sex\":sex, 'age':age, 'bp':bp, 's1':s1, 's2':s2, 's3':s3,'s4':s4, 's5':s5,'s6':s6})\n",
    "\n",
    "#display(VBox([sex, bmi, age, bp, s1, s2, s3, s4, s5, s6, button]))\n",
    "display(VBox([sex, bmi, age, bp, s1, s2, s3, s4, s5, s6]),out)"
   ]
  },
  {
   "cell_type": "code",
   "execution_count": 3,
   "id": "chicken-station",
   "metadata": {},
   "outputs": [
    {
     "name": "stdout",
     "output_type": "stream",
     "text": [
      "related data is:  age:48  Sex:1  bmi:21.6   bp:87.00  s1:183  s2:103.2  s3:70.0  s4:3.00  s5:3.8918   s6:69 \n",
      "expected value is 75!\n"
     ]
    }
   ],
   "source": [
    "print(\"related data is:  age:48  Sex:1  bmi:21.6   bp:87.00  s1:183  s2:103.2  s3:70.0  s4:3.00  s5:3.8918   s6:69 \")\n",
    "print (\"expected value is 75!\");"
   ]
  },
  {
   "cell_type": "code",
   "execution_count": null,
   "id": "changing-textbook",
   "metadata": {},
   "outputs": [],
   "source": []
  }
 ],
 "metadata": {
  "kernelspec": {
   "display_name": "Py3 ML",
   "language": "python",
   "name": "ml-env2"
  },
  "language_info": {
   "codemirror_mode": {
    "name": "ipython",
    "version": 3
   },
   "file_extension": ".py",
   "mimetype": "text/x-python",
   "name": "python",
   "nbconvert_exporter": "python",
   "pygments_lexer": "ipython3",
   "version": "3.7.9"
  }
 },
 "nbformat": 4,
 "nbformat_minor": 5
}
