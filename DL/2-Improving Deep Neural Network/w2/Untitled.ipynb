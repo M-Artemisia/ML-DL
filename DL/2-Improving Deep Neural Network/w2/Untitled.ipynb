{
 "cells": [
  {
   "cell_type": "code",
   "execution_count": 6,
   "metadata": {
    "collapsed": true,
    "jupyter": {
     "outputs_hidden": true
    }
   },
   "outputs": [
    {
     "data": {
      "text/plain": [
       "<matplotlib.axes._subplots.AxesSubplot at 0xc9b6548>"
      ]
     },
     "execution_count": 6,
     "metadata": {},
     "output_type": "execute_result"
    },
    {
     "data": {
      "image/png": "[encoded data removed]",
      "text/plain": [
       "<Figure size 432x288 with 1 Axes>"
      ]
     },
     "metadata": {
      "needs_background": "light"
     },
     "output_type": "display_data"
    }
   ],
   "source": [
    "import seaborn as ss\n",
    "import numpy as np\n",
    "x = np.array([1,2,3,4,3,5,4,5,6,7,8,9,1,2,3,4,1,2,3,])\n",
    "ss.distplot(x)\n"
   ]
  },
  {
   "cell_type": "code",
   "execution_count": 7,
   "metadata": {
    "collapsed": true,
    "jupyter": {
     "outputs_hidden": true
    }
   },
   "outputs": [
    {
     "name": "stdout",
     "output_type": "stream",
     "text": [
      "Requirement already satisfied: setuptools in c:\\users\\mali\\anaconda3\\lib\\site-packages (45.2.0.post20200210)\n",
      "Requirement already satisfied: tensorflow==1.14.0 in c:\\users\\mali\\anaconda3\\lib\\site-packages (1.14.0)\n",
      "Requirement already satisfied: keras==2.2.5 in c:\\users\\mali\\anaconda3\\lib\\site-packages (2.2.5)\n",
      "Requirement already satisfied: keras-preprocessing in c:\\users\\mali\\anaconda3\\lib\\site-packages (1.1.2)\n",
      "Requirement already satisfied: keras-applications in c:\\users\\mali\\anaconda3\\lib\\site-packages (1.0.8)\n",
      "Requirement already satisfied: numpy<2.0,>=1.14.5 in c:\\users\\mali\\anaconda3\\lib\\site-packages (from tensorflow==1.14.0) (1.18.1)\n",
      "Requirement already satisfied: tensorboard<1.15.0,>=1.14.0 in c:\\users\\mali\\anaconda3\\lib\\site-packages (from tensorflow==1.14.0) (1.14.0)\n",
      "Requirement already satisfied: termcolor>=1.1.0 in c:\\users\\mali\\anaconda3\\lib\\site-packages (from tensorflow==1.14.0) (1.1.0)\n",
      "Requirement already satisfied: astor>=0.6.0 in c:\\users\\mali\\anaconda3\\lib\\site-packages (from tensorflow==1.14.0) (0.8.1)\n",
      "Requirement already satisfied: wheel>=0.26 in c:\\users\\mali\\anaconda3\\lib\\site-packages (from tensorflow==1.14.0) (0.34.2)\n",
      "Requirement already satisfied: absl-py>=0.7.0 in c:\\users\\mali\\anaconda3\\lib\\site-packages (from tensorflow==1.14.0) (0.9.0)\n",
      "Requirement already satisfied: wrapt>=1.11.1 in c:\\users\\mali\\anaconda3\\lib\\site-packages (from tensorflow==1.14.0) (1.11.2)\n",
      "Requirement already satisfied: grpcio>=1.8.6 in c:\\users\\mali\\anaconda3\\lib\\site-packages (from tensorflow==1.14.0) (1.29.0)\n",
      "Requirement already satisfied: google-pasta>=0.1.6 in c:\\users\\mali\\anaconda3\\lib\\site-packages (from tensorflow==1.14.0) (0.2.0)\n",
      "Requirement already satisfied: six>=1.10.0 in c:\\users\\mali\\anaconda3\\lib\\site-packages (from tensorflow==1.14.0) (1.14.0)\n",
      "Requirement already satisfied: tensorflow-estimator<1.15.0rc0,>=1.14.0rc0 in c:\\users\\mali\\anaconda3\\lib\\site-packages (from tensorflow==1.14.0) (1.14.0)\n",
      "Requirement already satisfied: gast>=0.2.0 in c:\\users\\mali\\anaconda3\\lib\\site-packages (from tensorflow==1.14.0) (0.3.3)\n",
      "Requirement already satisfied: protobuf>=3.6.1 in c:\\users\\mali\\anaconda3\\lib\\site-packages (from tensorflow==1.14.0) (3.12.2)\n",
      "Requirement already satisfied: h5py in c:\\users\\mali\\anaconda3\\lib\\site-packages (from keras==2.2.5) (2.10.0)\n",
      "Requirement already satisfied: pyyaml in c:\\users\\mali\\anaconda3\\lib\\site-packages (from keras==2.2.5) (5.3)\n",
      "Requirement already satisfied: scipy>=0.14 in c:\\users\\mali\\anaconda3\\lib\\site-packages (from keras==2.2.5) (1.4.1)\n",
      "Requirement already satisfied: werkzeug>=0.11.15 in c:\\users\\mali\\anaconda3\\lib\\site-packages (from tensorboard<1.15.0,>=1.14.0->tensorflow==1.14.0) (1.0.0)\n",
      "Requirement already satisfied: markdown>=2.6.8 in c:\\users\\mali\\anaconda3\\lib\\site-packages (from tensorboard<1.15.0,>=1.14.0->tensorflow==1.14.0) (3.2.2)\n",
      "Requirement already satisfied: importlib-metadata; python_version < \"3.8\" in c:\\users\\mali\\anaconda3\\lib\\site-packages (from markdown>=2.6.8->tensorboard<1.15.0,>=1.14.0->tensorflow==1.14.0) (1.5.0)\n",
      "Requirement already satisfied: zipp>=0.5 in c:\\users\\mali\\anaconda3\\lib\\site-packages (from importlib-metadata; python_version < \"3.8\"->markdown>=2.6.8->tensorboard<1.15.0,>=1.14.0->tensorflow==1.14.0) (2.2.0)\n"
     ]
    }
   ],
   "source": [
    "! pip install setuptools tensorflow==1.14.0 keras==2.2.5  keras-preprocessing keras-applications\n"
   ]
  },
  {
   "cell_type": "code",
   "execution_count": null,
   "metadata": {
    "collapsed": true,
    "jupyter": {
     "outputs_hidden": true
    }
   },
   "outputs": [],
   "source": [
    "import tensorflow\n",
    "if not tensorflow.__version__ == '1.14.0':\n",
    "    print(tensorflow.__version__)\n",
    "    #raise ValueError('please update to tensorflow 1.14.0, or restart your kernel (kernel->Restart & Clear output)')\n",
    "    \n",
    "    \n",
    "import keras\n",
    "print(keras.__version__)\n",
    "if not keras.__version__ == '2.2.5':\n",
    "    print(keras.__version__)\n",
    "    #raise ValueError('please upgrade to keras 2.2.5, or restart you kernel. (kernel->Restart & Clear output)')\n",
    "    \n"
   ]
  },
  {
   "cell_type": "code",
   "execution_count": null,
   "metadata": {
    "collapsed": true,
    "jupyter": {
     "outputs_hidden": true
    }
   },
   "outputs": [],
   "source": []
  },
  {
   "cell_type": "code",
   "execution_count": null,
   "metadata": {
    "collapsed": true,
    "jupyter": {
     "outputs_hidden": true
    }
   },
   "outputs": [],
   "source": []
  },
  {
   "cell_type": "code",
   "execution_count": null,
   "metadata": {},
   "outputs": [],
   "source": []
  }
 ],
 "metadata": {
  "kernelspec": {
   "display_name": "Python 3",
   "language": "python",
   "name": "python3"
  },
  "language_info": {
   "codemirror_mode": {
    "name": "ipython",
    "version": 3
   },
   "file_extension": ".py",
   "mimetype": "text/x-python",
   "name": "python",
   "nbconvert_exporter": "python",
   "pygments_lexer": "ipython3",
   "version": "3.6.9"
  }
 },
 "nbformat": 4,
 "nbformat_minor": 4
}
